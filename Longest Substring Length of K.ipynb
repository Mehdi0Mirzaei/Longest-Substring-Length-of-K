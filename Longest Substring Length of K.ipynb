{
 "cells": [
  {
   "cell_type": "code",
   "execution_count": 6,
   "id": "821b8a7e",
   "metadata": {},
   "outputs": [
    {
     "name": "stdout",
     "output_type": "stream",
     "text": [
      "The original string is : abcaaaacbbaa\n",
      "The Longest Substring Length : 4\n"
     ]
    }
   ],
   "source": [
    "# initializing string\n",
    "test_str = 'abcaaaacbbaa'\n",
    " \n",
    "# printing original String\n",
    "print(\"The original string is : \" + str(test_str))\n",
    " \n",
    "# initializing K \n",
    "K = 'a'\n",
    " \n",
    "cnt = 0\n",
    "res = 0\n",
    "for idx in range(len(test_str)):\n",
    "     \n",
    "    # increment counter on checking\n",
    "    if test_str[idx] == K:\n",
    "        cnt += 1\n",
    "    else:\n",
    "        cnt = 0\n",
    "         \n",
    "    # retaining max\n",
    "    res = max(res, cnt)\n",
    " # printing result \n",
    "print(\"The Longest Substring Length : \" + str(res))"
   ]
  },
  {
   "cell_type": "code",
   "execution_count": 7,
   "id": "6f48affb",
   "metadata": {},
   "outputs": [
    {
     "name": "stdout",
     "output_type": "stream",
     "text": [
      "The original string is : abcaaaacbbaa\n",
      "The Longest Substring Length : 4\n"
     ]
    }
   ],
   "source": [
    "import numpy as np\n",
    " \n",
    "# Initializing input string and the character to be searched\n",
    "test_str = 'abcaaaacbbaa'\n",
    "K = 'a'\n",
    " \n",
    "# creating a numpy array from the input string\n",
    "arr = np.array(list(test_str))\n",
    " \n",
    "# finding the indices where the character K appears\n",
    "indices = np.where(arr == K)[0]\n",
    " \n",
    "# finding the consecutive differences between indices\n",
    "differences = np.diff(indices)\n",
    " \n",
    "# finding the maximum consecutive difference\n",
    "res = np.max(differences)\n",
    " \n",
    "# printing the original string and the result\n",
    "print(\"The original string is : \" + str(test_str))\n",
    "print(\"The Longest Substring Length : \" + str(res))\n",
    "#This code is contributed by Rayudu."
   ]
  },
  {
   "cell_type": "code",
   "execution_count": 8,
   "id": "38629583",
   "metadata": {},
   "outputs": [
    {
     "name": "stdout",
     "output_type": "stream",
     "text": [
      "The original string is : abcaaaacbbaa\n",
      "The Longest Substring Length : 4\n"
     ]
    }
   ],
   "source": [
    "# initializing string\n",
    "test_str = 'abcaaaacbbaa'\n",
    " \n",
    "# printing original String\n",
    "print(\"The original string is : \" + str(test_str))\n",
    " \n",
    "# initializing K\n",
    "K = 'a'\n",
    " \n",
    "# Using dynamic programming\n",
    "n = len(test_str)\n",
    "dp = [0] * n\n",
    "dp[0] = 1 if test_str[0] == K else 0\n",
    "for i in range(1, n):\n",
    "    if test_str[i] == K:\n",
    "        dp[i] = dp[i-1] + 1\n",
    "    else:\n",
    "        dp[i] = 0\n",
    "max_count = max(dp)\n",
    " \n",
    "# printing result\n",
    "print(\"The Longest Substring Length : \" + str(max_count))\n"
   ]
  },
  {
   "cell_type": "code",
   "execution_count": null,
   "id": "bbf268d9",
   "metadata": {},
   "outputs": [],
   "source": []
  }
 ],
 "metadata": {
  "kernelspec": {
   "display_name": "Python 3 (ipykernel)",
   "language": "python",
   "name": "python3"
  },
  "language_info": {
   "codemirror_mode": {
    "name": "ipython",
    "version": 3
   },
   "file_extension": ".py",
   "mimetype": "text/x-python",
   "name": "python",
   "nbconvert_exporter": "python",
   "pygments_lexer": "ipython3",
   "version": "3.9.13"
  }
 },
 "nbformat": 4,
 "nbformat_minor": 5
}
